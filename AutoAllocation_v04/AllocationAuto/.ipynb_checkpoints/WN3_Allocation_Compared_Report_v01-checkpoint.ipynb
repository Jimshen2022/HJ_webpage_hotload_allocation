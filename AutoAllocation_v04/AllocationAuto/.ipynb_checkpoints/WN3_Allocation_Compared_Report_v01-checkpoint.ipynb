{
 "cells": [
  {
   "cell_type": "code",
   "execution_count": 1,
   "id": "fff65086",
   "metadata": {},
   "outputs": [],
   "source": [
    "# Compared Luanna's allocation list with finished entry HJ allocation items \n",
    "# Created by : Jim,Shen on Feb.25.2023\n",
    "\n",
    "# Steps:\n",
    "# 1. Save allocation list on path:  'C:\\Users\\jjshe\\Downloads\\Wanek_Allocation_List.xlsx'\n",
    "# 2. Download HJ allocation items on path:  'C:\\Users\\jjshe\\Downloads\\Allocated_List.xlsx'\n",
    "# 3. Run this python file\n",
    "# 4. Get compared report on path: '‪C:\\Users\\jishen\\WN3_Allocation_Compared_Report.xlsx'\n"
   ]
  },
  {
   "cell_type": "code",
   "execution_count": 3,
   "id": "057fa86d",
   "metadata": {},
   "outputs": [
    {
     "name": "stdout",
     "output_type": "stream",
     "text": [
      "            Due      Item Priority  WHs Total\n",
      "0    03/30/2023   1010488       12   17     6\n",
      "1    03/30/2023   1100146       18    5    18\n",
      "2    03/30/2023   1100155        6  335     2\n",
      "3    03/30/2023   1100156        6  335     1\n",
      "4    03/30/2023   1110217       18    5    22\n",
      "..          ...       ...      ...  ...   ...\n",
      "298  03/30/2023  U7160562       16  ECR     3\n",
      "299  03/30/2023  U7160562       18    5    12\n",
      "300  03/30/2023  U7160582       18    5     3\n",
      "301  03/30/2023  U8300413       18    5     8\n",
      "302  03/30/2023  U8300447       18    5     4\n",
      "\n",
      "[303 rows x 5 columns]\n",
      "          Due_x      Item Priority  WHs  Total       Due_y Destination  \\\n",
      "0    03/30/2023   1010488       12   17    6.0  03/30/2023     Advance   \n",
      "1    03/30/2023   1100146       18    5   18.0  03/30/2023      Colton   \n",
      "2    03/30/2023   1100155        6  335    2.0  03/30/2023      Ashton   \n",
      "3    03/30/2023   1100156        6  335    1.0  03/30/2023      Ashton   \n",
      "4    03/30/2023   1110217       18    5   22.0  03/30/2023      Colton   \n",
      "..          ...       ...      ...  ...    ...         ...         ...   \n",
      "316         NaN   3040246      NaN    5    NaN  03/30/2023      Colton   \n",
      "317         NaN   3912208      NaN    5    NaN  03/30/2023      Colton   \n",
      "318         NaN   9130221      NaN    5    NaN  03/30/2023      Colton   \n",
      "319         NaN   9870777      NaN    5    NaN  03/30/2023      Colton   \n",
      "320         NaN  A3000244      NaN    5    NaN  03/30/2023      Colton   \n",
      "\n",
      "     AllocatedQty  \n",
      "0             6.0  \n",
      "1            18.0  \n",
      "2             2.0  \n",
      "3             1.0  \n",
      "4            22.0  \n",
      "..            ...  \n",
      "316          55.0  \n",
      "317           6.0  \n",
      "318           1.0  \n",
      "319          20.0  \n",
      "320          30.0  \n",
      "\n",
      "[321 rows x 8 columns]\n"
     ]
    },
    {
     "data": {
      "text/plain": [
       "'OK'"
      ]
     },
     "execution_count": 3,
     "metadata": {},
     "output_type": "execute_result"
    }
   ],
   "source": [
    "import pandas as pd\n",
    "import pymsgbox\n",
    "\n",
    "# loading destination into dict\n",
    "data = pd.read_excel(r'C:\\Users\\luannguyen\\Downloads\\Wanek_Allocation_List.xlsx', sheet_name='Destination',dtype={'Destination':str,'Whs':str})\n",
    "dict1 = dict(zip(data['Destination'],data['Whs']))\n",
    "# print(dict1)\n",
    "\n",
    "df = pd.read_excel(r'C:\\Users\\luannguyen\\Downloads\\Wanek_Allocation_List.xlsx',sheet_name=1,skiprows=1,\n",
    "                   dtype={'Item':str,'Priority':str,'WHs':str,'Total':str,'Destination':str})\n",
    "\n",
    "df['Due'] = pd.to_datetime(df['Due'],errors='coerce')\n",
    "df['Due'] = df['Due'].dt.strftime('%m/%d/%Y')\n",
    "df.set_index=['Item','Destination']\n",
    "print(df)\n",
    "\n",
    "# import excel file Allocated_List.xlsx into df2 then loaded into dictionary:\n",
    "df2 = pd.read_excel(r'C:\\Users\\luannguyen\\Downloads\\Allocated_List.xlsx',sheet_name=0,usecols='B,D,H:Z',\n",
    "                    dtype={'Production Item':str})\n",
    "df2['*MFG Date'] = pd.to_datetime(df2['*MFG Date'],errors='coerce')\n",
    "df2['*MFG Date'] = df2['*MFG Date'].dt.strftime('%m/%d/%Y')\n",
    "df2 = df2[df2['*MFG Date']==df['Due'][0]]\n",
    "df2.reset_index(inplace=True)\n",
    "df2.drop(columns='index',inplace=True)\n",
    "\n",
    "# Un-piovtTable\n",
    "df2=pd.melt(df2,id_vars=['*MFG Date','Production Item'],var_name='Destination',value_name='AllocatedQty')\n",
    "df2 = df2[df2['AllocatedQty'] != 0]\n",
    "df2.reset_index(inplace=True)\n",
    "df2.drop(columns='index',inplace=True)\n",
    "\n",
    "# through dict1 to query destination whse for comparision with df1\n",
    "df2['Whs'] = df2['Destination'].apply(lambda  x: dict1[x])   \n",
    "df2.rename(columns={'*MFG Date':'Due','Production Item':'Item','Whs':'WHs'},inplace=True)\n",
    "df2.set_index=['Item','WHs']\n",
    "\n",
    "\n",
    "# df['Total'] =df['Total'].apply(pd.to_numeric,errors='coerce')\n",
    "df['Total'] =df['Total'].astype(int)\n",
    "\n",
    "#  comparing\n",
    "df3 = pd.merge(df,df2,on = ['Item','WHs'],how='outer')\n",
    "print(df3)\n",
    "df3['AllocatedQty-PlannedQty(Total)'] = df3['AllocatedQty']-df3['Total']\n",
    "df3 = df3[df3['AllocatedQty-PlannedQty(Total)'] != 0]\n",
    "df3.to_excel(r'C:\\Users\\luannguyen\\Downloads\\WN3_Allocation_Compared_Report.xlsx',index=False)\n",
    "\n",
    "pymsgbox.alert(\"Compared Finished!\",'Notice:','OK')\n"
   ]
  },
  {
   "cell_type": "code",
   "execution_count": null,
   "id": "b49760ef",
   "metadata": {},
   "outputs": [],
   "source": []
  },
  {
   "cell_type": "code",
   "execution_count": null,
   "id": "4a498515",
   "metadata": {},
   "outputs": [],
   "source": []
  },
  {
   "cell_type": "code",
   "execution_count": null,
   "id": "6cfa2bff",
   "metadata": {},
   "outputs": [],
   "source": []
  },
  {
   "cell_type": "code",
   "execution_count": null,
   "id": "ff901d3c",
   "metadata": {},
   "outputs": [],
   "source": []
  },
  {
   "cell_type": "code",
   "execution_count": null,
   "id": "41cc2db7",
   "metadata": {},
   "outputs": [],
   "source": []
  }
 ],
 "metadata": {
  "kernelspec": {
   "display_name": "Python 3 (ipykernel)",
   "language": "python",
   "name": "python3"
  },
  "language_info": {
   "codemirror_mode": {
    "name": "ipython",
    "version": 3
   },
   "file_extension": ".py",
   "mimetype": "text/x-python",
   "name": "python",
   "nbconvert_exporter": "python",
   "pygments_lexer": "ipython3",
   "version": "3.9.13"
  }
 },
 "nbformat": 4,
 "nbformat_minor": 5
}
