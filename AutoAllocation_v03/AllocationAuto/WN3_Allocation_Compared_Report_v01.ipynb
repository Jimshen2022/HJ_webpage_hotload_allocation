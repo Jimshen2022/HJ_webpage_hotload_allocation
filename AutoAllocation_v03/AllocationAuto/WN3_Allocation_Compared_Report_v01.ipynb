{
 "cells": [
  {
   "cell_type": "code",
   "execution_count": 2,
   "id": "fff65086",
   "metadata": {},
   "outputs": [],
   "source": [
    "# Compared Luanna's allocation list with finished entry HJ allocation items \n",
    "# Created by : Jim,Shen on Feb.25.2023\n",
    "\n",
    "# Steps:\n",
    "# 1. Save allocation list on path:  'C:\\Users\\jjshe\\Downloads\\Wanek_Allocation_List.xlsx'\n",
    "# 2. Download HJ allocation items on path:  'C:\\Users\\jjshe\\Downloads\\Allocated_List.xlsx'\n",
    "# 3. Run this python file\n",
    "# 4. Get compared report on path: '‪C:\\Users\\jishen\\WN3_Allocation_Compared_Report.xlsx'\n"
   ]
  },
  {
   "cell_type": "code",
   "execution_count": 3,
   "id": "057fa86d",
   "metadata": {},
   "outputs": [
    {
     "name": "stdout",
     "output_type": "stream",
     "text": [
      "            Due      Item Priority  WHs Total\n",
      "0    04/01/2023   1000764        6  335     2\n",
      "1    04/01/2023   1000764       18    5    26\n",
      "2    04/01/2023   1000765        6  335     3\n",
      "3    04/01/2023   1000765       15   42     2\n",
      "4    04/01/2023   1000765       18    5    23\n",
      "..          ...       ...      ...  ...   ...\n",
      "274  04/01/2023   9900435        6  335     8\n",
      "275  04/01/2023   9900438        6  335     9\n",
      "276  04/01/2023  U2570547       16  ECR     3\n",
      "277  04/01/2023  U5240219       16  ECR     6\n",
      "278  04/01/2023  U8460415       18    5     1\n",
      "\n",
      "[279 rows x 5 columns]\n",
      "          Due_x     Item Priority  WHs  Total       Due_y Destination  \\\n",
      "0    04/01/2023  1000764        6  335    2.0  04/01/2023      Ashton   \n",
      "1    04/01/2023  1000764       18    5   26.0         NaN         NaN   \n",
      "2    04/01/2023  1000765        6  335    3.0  04/01/2023      Ashton   \n",
      "3    04/01/2023  1000765       15   42    2.0  04/01/2023          42   \n",
      "4    04/01/2023  1000765       18    5   23.0  04/01/2023      Colton   \n",
      "..          ...      ...      ...  ...    ...         ...         ...   \n",
      "299         NaN  1000646      NaN    5    NaN  04/01/2023      Colton   \n",
      "300         NaN  1000746      NaN    5    NaN  04/01/2023      Colton   \n",
      "301         NaN  5220408      NaN    5    NaN  04/01/2023      Colton   \n",
      "302         NaN  5220416      NaN    5    NaN  04/01/2023      Colton   \n",
      "303         NaN  5220417      NaN    5    NaN  04/01/2023      Colton   \n",
      "\n",
      "     AllocatedQty  \n",
      "0             2.0  \n",
      "1             NaN  \n",
      "2             3.0  \n",
      "3             2.0  \n",
      "4            23.0  \n",
      "..            ...  \n",
      "299          45.0  \n",
      "300          16.0  \n",
      "301           8.0  \n",
      "302           7.0  \n",
      "303           6.0  \n",
      "\n",
      "[304 rows x 8 columns]\n"
     ]
    },
    {
     "ename": "PermissionError",
     "evalue": "[Errno 13] Permission denied: 'C:\\\\Users\\\\luannguyen\\\\Downloads\\\\WN3_Allocation_Compared_Report.xlsx'",
     "output_type": "error",
     "traceback": [
      "\u001b[1;31m---------------------------------------------------------------------------\u001b[0m",
      "\u001b[1;31mPermissionError\u001b[0m                           Traceback (most recent call last)",
      "\u001b[1;32m~\\AppData\\Local\\Temp\\ipykernel_16104\\2857117859.py\u001b[0m in \u001b[0;36m<module>\u001b[1;34m\u001b[0m\n\u001b[0;32m     44\u001b[0m \u001b[0mdf3\u001b[0m\u001b[1;33m[\u001b[0m\u001b[1;34m'AllocatedQty-PlannedQty(Total)'\u001b[0m\u001b[1;33m]\u001b[0m \u001b[1;33m=\u001b[0m \u001b[0mdf3\u001b[0m\u001b[1;33m[\u001b[0m\u001b[1;34m'AllocatedQty'\u001b[0m\u001b[1;33m]\u001b[0m\u001b[1;33m-\u001b[0m\u001b[0mdf3\u001b[0m\u001b[1;33m[\u001b[0m\u001b[1;34m'Total'\u001b[0m\u001b[1;33m]\u001b[0m\u001b[1;33m\u001b[0m\u001b[1;33m\u001b[0m\u001b[0m\n\u001b[0;32m     45\u001b[0m \u001b[0mdf3\u001b[0m \u001b[1;33m=\u001b[0m \u001b[0mdf3\u001b[0m\u001b[1;33m[\u001b[0m\u001b[0mdf3\u001b[0m\u001b[1;33m[\u001b[0m\u001b[1;34m'AllocatedQty-PlannedQty(Total)'\u001b[0m\u001b[1;33m]\u001b[0m \u001b[1;33m!=\u001b[0m \u001b[1;36m0\u001b[0m\u001b[1;33m]\u001b[0m\u001b[1;33m\u001b[0m\u001b[1;33m\u001b[0m\u001b[0m\n\u001b[1;32m---> 46\u001b[1;33m \u001b[0mdf3\u001b[0m\u001b[1;33m.\u001b[0m\u001b[0mto_excel\u001b[0m\u001b[1;33m(\u001b[0m\u001b[1;34mr'C:\\Users\\luannguyen\\Downloads\\WN3_Allocation_Compared_Report.xlsx'\u001b[0m\u001b[1;33m,\u001b[0m\u001b[0mindex\u001b[0m\u001b[1;33m=\u001b[0m\u001b[1;32mFalse\u001b[0m\u001b[1;33m)\u001b[0m\u001b[1;33m\u001b[0m\u001b[1;33m\u001b[0m\u001b[0m\n\u001b[0m\u001b[0;32m     47\u001b[0m \u001b[1;33m\u001b[0m\u001b[0m\n\u001b[0;32m     48\u001b[0m \u001b[0mpymsgbox\u001b[0m\u001b[1;33m.\u001b[0m\u001b[0malert\u001b[0m\u001b[1;33m(\u001b[0m\u001b[1;34m\"Compared Finished!\"\u001b[0m\u001b[1;33m,\u001b[0m\u001b[1;34m'Notice:'\u001b[0m\u001b[1;33m,\u001b[0m\u001b[1;34m'OK'\u001b[0m\u001b[1;33m)\u001b[0m\u001b[1;33m\u001b[0m\u001b[1;33m\u001b[0m\u001b[0m\n",
      "\u001b[1;32mC:\\ProgramData\\Anaconda3\\lib\\site-packages\\pandas\\core\\generic.py\u001b[0m in \u001b[0;36mto_excel\u001b[1;34m(self, excel_writer, sheet_name, na_rep, float_format, columns, header, index, index_label, startrow, startcol, engine, merge_cells, encoding, inf_rep, verbose, freeze_panes, storage_options)\u001b[0m\n\u001b[0;32m   2343\u001b[0m             \u001b[0minf_rep\u001b[0m\u001b[1;33m=\u001b[0m\u001b[0minf_rep\u001b[0m\u001b[1;33m,\u001b[0m\u001b[1;33m\u001b[0m\u001b[1;33m\u001b[0m\u001b[0m\n\u001b[0;32m   2344\u001b[0m         )\n\u001b[1;32m-> 2345\u001b[1;33m         formatter.write(\n\u001b[0m\u001b[0;32m   2346\u001b[0m             \u001b[0mexcel_writer\u001b[0m\u001b[1;33m,\u001b[0m\u001b[1;33m\u001b[0m\u001b[1;33m\u001b[0m\u001b[0m\n\u001b[0;32m   2347\u001b[0m             \u001b[0msheet_name\u001b[0m\u001b[1;33m=\u001b[0m\u001b[0msheet_name\u001b[0m\u001b[1;33m,\u001b[0m\u001b[1;33m\u001b[0m\u001b[1;33m\u001b[0m\u001b[0m\n",
      "\u001b[1;32mC:\\ProgramData\\Anaconda3\\lib\\site-packages\\pandas\\io\\formats\\excel.py\u001b[0m in \u001b[0;36mwrite\u001b[1;34m(self, writer, sheet_name, startrow, startcol, freeze_panes, engine, storage_options)\u001b[0m\n\u001b[0;32m    886\u001b[0m             \u001b[1;31m# error: Cannot instantiate abstract class 'ExcelWriter' with abstract\u001b[0m\u001b[1;33m\u001b[0m\u001b[1;33m\u001b[0m\u001b[0m\n\u001b[0;32m    887\u001b[0m             \u001b[1;31m# attributes 'engine', 'save', 'supported_extensions' and 'write_cells'\u001b[0m\u001b[1;33m\u001b[0m\u001b[1;33m\u001b[0m\u001b[0m\n\u001b[1;32m--> 888\u001b[1;33m             writer = ExcelWriter(  # type: ignore[abstract]\n\u001b[0m\u001b[0;32m    889\u001b[0m                 \u001b[0mwriter\u001b[0m\u001b[1;33m,\u001b[0m \u001b[0mengine\u001b[0m\u001b[1;33m=\u001b[0m\u001b[0mengine\u001b[0m\u001b[1;33m,\u001b[0m \u001b[0mstorage_options\u001b[0m\u001b[1;33m=\u001b[0m\u001b[0mstorage_options\u001b[0m\u001b[1;33m\u001b[0m\u001b[1;33m\u001b[0m\u001b[0m\n\u001b[0;32m    890\u001b[0m             )\n",
      "\u001b[1;32mC:\\ProgramData\\Anaconda3\\lib\\site-packages\\pandas\\io\\excel\\_xlsxwriter.py\u001b[0m in \u001b[0;36m__init__\u001b[1;34m(self, path, engine, date_format, datetime_format, mode, storage_options, if_sheet_exists, engine_kwargs, **kwargs)\u001b[0m\n\u001b[0;32m    189\u001b[0m             \u001b[1;32mraise\u001b[0m \u001b[0mValueError\u001b[0m\u001b[1;33m(\u001b[0m\u001b[1;34m\"Append mode is not supported with xlsxwriter!\"\u001b[0m\u001b[1;33m)\u001b[0m\u001b[1;33m\u001b[0m\u001b[1;33m\u001b[0m\u001b[0m\n\u001b[0;32m    190\u001b[0m \u001b[1;33m\u001b[0m\u001b[0m\n\u001b[1;32m--> 191\u001b[1;33m         super().__init__(\n\u001b[0m\u001b[0;32m    192\u001b[0m             \u001b[0mpath\u001b[0m\u001b[1;33m,\u001b[0m\u001b[1;33m\u001b[0m\u001b[1;33m\u001b[0m\u001b[0m\n\u001b[0;32m    193\u001b[0m             \u001b[0mengine\u001b[0m\u001b[1;33m=\u001b[0m\u001b[0mengine\u001b[0m\u001b[1;33m,\u001b[0m\u001b[1;33m\u001b[0m\u001b[1;33m\u001b[0m\u001b[0m\n",
      "\u001b[1;32mC:\\ProgramData\\Anaconda3\\lib\\site-packages\\pandas\\io\\excel\\_base.py\u001b[0m in \u001b[0;36m__init__\u001b[1;34m(self, path, engine, date_format, datetime_format, mode, storage_options, if_sheet_exists, engine_kwargs, **kwargs)\u001b[0m\n\u001b[0;32m   1104\u001b[0m         )\n\u001b[0;32m   1105\u001b[0m         \u001b[1;32mif\u001b[0m \u001b[1;32mnot\u001b[0m \u001b[0misinstance\u001b[0m\u001b[1;33m(\u001b[0m\u001b[0mpath\u001b[0m\u001b[1;33m,\u001b[0m \u001b[0mExcelWriter\u001b[0m\u001b[1;33m)\u001b[0m\u001b[1;33m:\u001b[0m\u001b[1;33m\u001b[0m\u001b[1;33m\u001b[0m\u001b[0m\n\u001b[1;32m-> 1106\u001b[1;33m             self.handles = get_handle(\n\u001b[0m\u001b[0;32m   1107\u001b[0m                 \u001b[0mpath\u001b[0m\u001b[1;33m,\u001b[0m \u001b[0mmode\u001b[0m\u001b[1;33m,\u001b[0m \u001b[0mstorage_options\u001b[0m\u001b[1;33m=\u001b[0m\u001b[0mstorage_options\u001b[0m\u001b[1;33m,\u001b[0m \u001b[0mis_text\u001b[0m\u001b[1;33m=\u001b[0m\u001b[1;32mFalse\u001b[0m\u001b[1;33m\u001b[0m\u001b[1;33m\u001b[0m\u001b[0m\n\u001b[0;32m   1108\u001b[0m             )\n",
      "\u001b[1;32mC:\\ProgramData\\Anaconda3\\lib\\site-packages\\pandas\\io\\common.py\u001b[0m in \u001b[0;36mget_handle\u001b[1;34m(path_or_buf, mode, encoding, compression, memory_map, is_text, errors, storage_options)\u001b[0m\n\u001b[0;32m    793\u001b[0m         \u001b[1;32melse\u001b[0m\u001b[1;33m:\u001b[0m\u001b[1;33m\u001b[0m\u001b[1;33m\u001b[0m\u001b[0m\n\u001b[0;32m    794\u001b[0m             \u001b[1;31m# Binary mode\u001b[0m\u001b[1;33m\u001b[0m\u001b[1;33m\u001b[0m\u001b[0m\n\u001b[1;32m--> 795\u001b[1;33m             \u001b[0mhandle\u001b[0m \u001b[1;33m=\u001b[0m \u001b[0mopen\u001b[0m\u001b[1;33m(\u001b[0m\u001b[0mhandle\u001b[0m\u001b[1;33m,\u001b[0m \u001b[0mioargs\u001b[0m\u001b[1;33m.\u001b[0m\u001b[0mmode\u001b[0m\u001b[1;33m)\u001b[0m\u001b[1;33m\u001b[0m\u001b[1;33m\u001b[0m\u001b[0m\n\u001b[0m\u001b[0;32m    796\u001b[0m         \u001b[0mhandles\u001b[0m\u001b[1;33m.\u001b[0m\u001b[0mappend\u001b[0m\u001b[1;33m(\u001b[0m\u001b[0mhandle\u001b[0m\u001b[1;33m)\u001b[0m\u001b[1;33m\u001b[0m\u001b[1;33m\u001b[0m\u001b[0m\n\u001b[0;32m    797\u001b[0m \u001b[1;33m\u001b[0m\u001b[0m\n",
      "\u001b[1;31mPermissionError\u001b[0m: [Errno 13] Permission denied: 'C:\\\\Users\\\\luannguyen\\\\Downloads\\\\WN3_Allocation_Compared_Report.xlsx'"
     ]
    }
   ],
   "source": [
    "import pandas as pd\n",
    "import pymsgbox\n",
    "\n",
    "# loading destination into dict\n",
    "data = pd.read_excel(r'C:\\Users\\luannguyen\\Downloads\\Wanek_Allocation_List.xlsx', sheet_name='Destination',dtype={'Destination':str,'Whs':str})\n",
    "dict1 = dict(zip(data['Destination'],data['Whs']))\n",
    "# print(dict1)\n",
    "\n",
    "df = pd.read_excel(r'C:\\Users\\luannguyen\\Downloads\\Wanek_Allocation_List.xlsx',sheet_name=1,skiprows=1,\n",
    "                   dtype={'Item':str,'Priority':str,'WHs':str,'Total':str,'Destination':str})\n",
    "\n",
    "df['Due'] = pd.to_datetime(df['Due'],errors='coerce')\n",
    "df['Due'] = df['Due'].dt.strftime('%m/%d/%Y')\n",
    "df.set_index=['Item','Destination']\n",
    "print(df)\n",
    "\n",
    "# import excel file Allocated_List.xlsx into df2 then loaded into dictionary:\n",
    "df2 = pd.read_excel(r'C:\\Users\\luannguyen\\Downloads\\Allocated_List.xlsx',sheet_name=0,usecols='B,D,H:Z',\n",
    "                    dtype={'Production Item':str})\n",
    "df2['*MFG Date'] = pd.to_datetime(df2['*MFG Date'],errors='coerce')\n",
    "df2['*MFG Date'] = df2['*MFG Date'].dt.strftime('%m/%d/%Y')\n",
    "df2 = df2[df2['*MFG Date']==df['Due'][0]]\n",
    "df2.reset_index(inplace=True)\n",
    "df2.drop(columns='index',inplace=True)\n",
    "\n",
    "# Un-piovtTable\n",
    "df2=pd.melt(df2,id_vars=['*MFG Date','Production Item'],var_name='Destination',value_name='AllocatedQty')\n",
    "df2 = df2[df2['AllocatedQty'] != 0]\n",
    "df2.reset_index(inplace=True)\n",
    "df2.drop(columns='index',inplace=True)\n",
    "\n",
    "# through dict1 to query destination whse for comparision with df1\n",
    "df2['Whs'] = df2['Destination'].apply(lambda  x: dict1[x])   \n",
    "df2.rename(columns={'*MFG Date':'Due','Production Item':'Item','Whs':'WHs'},inplace=True)\n",
    "df2.set_index=['Item','WHs']\n",
    "\n",
    "\n",
    "# df['Total'] =df['Total'].apply(pd.to_numeric,errors='coerce')\n",
    "df['Total'] =df['Total'].astype(int)\n",
    "\n",
    "#  comparing\n",
    "df3 = pd.merge(df,df2,on = ['Item','WHs'],how='outer')\n",
    "print(df3)\n",
    "df3['AllocatedQty-PlannedQty(Total)'] = df3['AllocatedQty']-df3['Total']\n",
    "df3 = df3[df3['AllocatedQty-PlannedQty(Total)'] != 0]\n",
    "df3.to_excel(r'C:\\Users\\luannguyen\\Downloads\\WN3_Allocation_Compared_Report.xlsx',index=False)\n",
    "\n",
    "pymsgbox.alert(\"Compared Finished!\",'Notice:','OK')\n"
   ]
  },
  {
   "cell_type": "code",
   "execution_count": null,
   "id": "b49760ef",
   "metadata": {},
   "outputs": [],
   "source": []
  },
  {
   "cell_type": "code",
   "execution_count": null,
   "id": "4a498515",
   "metadata": {},
   "outputs": [],
   "source": []
  },
  {
   "cell_type": "code",
   "execution_count": null,
   "id": "6cfa2bff",
   "metadata": {},
   "outputs": [],
   "source": []
  },
  {
   "cell_type": "code",
   "execution_count": null,
   "id": "ff901d3c",
   "metadata": {},
   "outputs": [],
   "source": []
  },
  {
   "cell_type": "code",
   "execution_count": null,
   "id": "41cc2db7",
   "metadata": {},
   "outputs": [],
   "source": []
  },
  {
   "cell_type": "code",
   "execution_count": null,
   "id": "07e1d339",
   "metadata": {},
   "outputs": [],
   "source": []
  }
 ],
 "metadata": {
  "kernelspec": {
   "display_name": "Python 3 (ipykernel)",
   "language": "python",
   "name": "python3"
  },
  "language_info": {
   "codemirror_mode": {
    "name": "ipython",
    "version": 3
   },
   "file_extension": ".py",
   "mimetype": "text/x-python",
   "name": "python",
   "nbconvert_exporter": "python",
   "pygments_lexer": "ipython3",
   "version": "3.9.13"
  }
 },
 "nbformat": 4,
 "nbformat_minor": 5
}
